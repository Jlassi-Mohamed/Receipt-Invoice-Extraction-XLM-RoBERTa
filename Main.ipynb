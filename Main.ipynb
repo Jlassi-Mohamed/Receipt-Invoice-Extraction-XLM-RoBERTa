{
  "nbformat": 4,
  "nbformat_minor": 0,
  "metadata": {
    "colab": {
      "provenance": [],
      "gpuType": "T4"
    },
    "kernelspec": {
      "name": "python3",
      "display_name": "Python 3"
    },
    "language_info": {
      "name": "python"
    },
    "accelerator": "GPU"
  },
  "cells": [
    {
      "cell_type": "code",
      "source": [
        "!pip install fastapi uvicorn transformers pytesseract Pillow python-multipart"
      ],
      "metadata": {
        "colab": {
          "base_uri": "https://localhost:8080/"
        },
        "collapsed": true,
        "id": "9iCTeH4m21MO",
        "outputId": "09db41c6-d86d-4453-85ee-8aebcfc731b8"
      },
      "execution_count": 1,
      "outputs": [
        {
          "output_type": "stream",
          "name": "stdout",
          "text": [
            "Requirement already satisfied: fastapi in /usr/local/lib/python3.11/dist-packages (0.115.12)\n",
            "Requirement already satisfied: uvicorn in /usr/local/lib/python3.11/dist-packages (0.34.2)\n",
            "Requirement already satisfied: transformers in /usr/local/lib/python3.11/dist-packages (4.52.3)\n",
            "Collecting pytesseract\n",
            "  Downloading pytesseract-0.3.13-py3-none-any.whl.metadata (11 kB)\n",
            "Requirement already satisfied: Pillow in /usr/local/lib/python3.11/dist-packages (11.2.1)\n",
            "Requirement already satisfied: python-multipart in /usr/local/lib/python3.11/dist-packages (0.0.20)\n",
            "Requirement already satisfied: starlette<0.47.0,>=0.40.0 in /usr/local/lib/python3.11/dist-packages (from fastapi) (0.46.2)\n",
            "Requirement already satisfied: pydantic!=1.8,!=1.8.1,!=2.0.0,!=2.0.1,!=2.1.0,<3.0.0,>=1.7.4 in /usr/local/lib/python3.11/dist-packages (from fastapi) (2.11.5)\n",
            "Requirement already satisfied: typing-extensions>=4.8.0 in /usr/local/lib/python3.11/dist-packages (from fastapi) (4.13.2)\n",
            "Requirement already satisfied: click>=7.0 in /usr/local/lib/python3.11/dist-packages (from uvicorn) (8.2.1)\n",
            "Requirement already satisfied: h11>=0.8 in /usr/local/lib/python3.11/dist-packages (from uvicorn) (0.16.0)\n",
            "Requirement already satisfied: filelock in /usr/local/lib/python3.11/dist-packages (from transformers) (3.18.0)\n",
            "Requirement already satisfied: huggingface-hub<1.0,>=0.30.0 in /usr/local/lib/python3.11/dist-packages (from transformers) (0.32.2)\n",
            "Requirement already satisfied: numpy>=1.17 in /usr/local/lib/python3.11/dist-packages (from transformers) (2.0.2)\n",
            "Requirement already satisfied: packaging>=20.0 in /usr/local/lib/python3.11/dist-packages (from transformers) (24.2)\n",
            "Requirement already satisfied: pyyaml>=5.1 in /usr/local/lib/python3.11/dist-packages (from transformers) (6.0.2)\n",
            "Requirement already satisfied: regex!=2019.12.17 in /usr/local/lib/python3.11/dist-packages (from transformers) (2024.11.6)\n",
            "Requirement already satisfied: requests in /usr/local/lib/python3.11/dist-packages (from transformers) (2.32.3)\n",
            "Requirement already satisfied: tokenizers<0.22,>=0.21 in /usr/local/lib/python3.11/dist-packages (from transformers) (0.21.1)\n",
            "Requirement already satisfied: safetensors>=0.4.3 in /usr/local/lib/python3.11/dist-packages (from transformers) (0.5.3)\n",
            "Requirement already satisfied: tqdm>=4.27 in /usr/local/lib/python3.11/dist-packages (from transformers) (4.67.1)\n",
            "Requirement already satisfied: fsspec>=2023.5.0 in /usr/local/lib/python3.11/dist-packages (from huggingface-hub<1.0,>=0.30.0->transformers) (2025.3.2)\n",
            "Requirement already satisfied: hf-xet<2.0.0,>=1.1.2 in /usr/local/lib/python3.11/dist-packages (from huggingface-hub<1.0,>=0.30.0->transformers) (1.1.2)\n",
            "Requirement already satisfied: annotated-types>=0.6.0 in /usr/local/lib/python3.11/dist-packages (from pydantic!=1.8,!=1.8.1,!=2.0.0,!=2.0.1,!=2.1.0,<3.0.0,>=1.7.4->fastapi) (0.7.0)\n",
            "Requirement already satisfied: pydantic-core==2.33.2 in /usr/local/lib/python3.11/dist-packages (from pydantic!=1.8,!=1.8.1,!=2.0.0,!=2.0.1,!=2.1.0,<3.0.0,>=1.7.4->fastapi) (2.33.2)\n",
            "Requirement already satisfied: typing-inspection>=0.4.0 in /usr/local/lib/python3.11/dist-packages (from pydantic!=1.8,!=1.8.1,!=2.0.0,!=2.0.1,!=2.1.0,<3.0.0,>=1.7.4->fastapi) (0.4.1)\n",
            "Requirement already satisfied: anyio<5,>=3.6.2 in /usr/local/lib/python3.11/dist-packages (from starlette<0.47.0,>=0.40.0->fastapi) (4.9.0)\n",
            "Requirement already satisfied: charset-normalizer<4,>=2 in /usr/local/lib/python3.11/dist-packages (from requests->transformers) (3.4.2)\n",
            "Requirement already satisfied: idna<4,>=2.5 in /usr/local/lib/python3.11/dist-packages (from requests->transformers) (3.10)\n",
            "Requirement already satisfied: urllib3<3,>=1.21.1 in /usr/local/lib/python3.11/dist-packages (from requests->transformers) (2.4.0)\n",
            "Requirement already satisfied: certifi>=2017.4.17 in /usr/local/lib/python3.11/dist-packages (from requests->transformers) (2025.4.26)\n",
            "Requirement already satisfied: sniffio>=1.1 in /usr/local/lib/python3.11/dist-packages (from anyio<5,>=3.6.2->starlette<0.47.0,>=0.40.0->fastapi) (1.3.1)\n",
            "Downloading pytesseract-0.3.13-py3-none-any.whl (14 kB)\n",
            "Installing collected packages: pytesseract\n",
            "Successfully installed pytesseract-0.3.13\n"
          ]
        }
      ]
    },
    {
      "cell_type": "code",
      "source": [
        "!pip install fastapi uvicorn pyngrok nest-asyncio\n",
        "!apt install tesseract-ocr -y"
      ],
      "metadata": {
        "collapsed": true,
        "colab": {
          "base_uri": "https://localhost:8080/"
        },
        "id": "zsLVPIdn7ZqL",
        "outputId": "5980c248-b7eb-4c9f-b8f4-9b1fccb7d99d"
      },
      "execution_count": 2,
      "outputs": [
        {
          "output_type": "stream",
          "name": "stdout",
          "text": [
            "Requirement already satisfied: fastapi in /usr/local/lib/python3.11/dist-packages (0.115.12)\n",
            "Requirement already satisfied: uvicorn in /usr/local/lib/python3.11/dist-packages (0.34.2)\n",
            "Collecting pyngrok\n",
            "  Downloading pyngrok-7.2.9-py3-none-any.whl.metadata (9.3 kB)\n",
            "Requirement already satisfied: nest-asyncio in /usr/local/lib/python3.11/dist-packages (1.6.0)\n",
            "Requirement already satisfied: starlette<0.47.0,>=0.40.0 in /usr/local/lib/python3.11/dist-packages (from fastapi) (0.46.2)\n",
            "Requirement already satisfied: pydantic!=1.8,!=1.8.1,!=2.0.0,!=2.0.1,!=2.1.0,<3.0.0,>=1.7.4 in /usr/local/lib/python3.11/dist-packages (from fastapi) (2.11.5)\n",
            "Requirement already satisfied: typing-extensions>=4.8.0 in /usr/local/lib/python3.11/dist-packages (from fastapi) (4.13.2)\n",
            "Requirement already satisfied: click>=7.0 in /usr/local/lib/python3.11/dist-packages (from uvicorn) (8.2.1)\n",
            "Requirement already satisfied: h11>=0.8 in /usr/local/lib/python3.11/dist-packages (from uvicorn) (0.16.0)\n",
            "Requirement already satisfied: PyYAML>=5.1 in /usr/local/lib/python3.11/dist-packages (from pyngrok) (6.0.2)\n",
            "Requirement already satisfied: annotated-types>=0.6.0 in /usr/local/lib/python3.11/dist-packages (from pydantic!=1.8,!=1.8.1,!=2.0.0,!=2.0.1,!=2.1.0,<3.0.0,>=1.7.4->fastapi) (0.7.0)\n",
            "Requirement already satisfied: pydantic-core==2.33.2 in /usr/local/lib/python3.11/dist-packages (from pydantic!=1.8,!=1.8.1,!=2.0.0,!=2.0.1,!=2.1.0,<3.0.0,>=1.7.4->fastapi) (2.33.2)\n",
            "Requirement already satisfied: typing-inspection>=0.4.0 in /usr/local/lib/python3.11/dist-packages (from pydantic!=1.8,!=1.8.1,!=2.0.0,!=2.0.1,!=2.1.0,<3.0.0,>=1.7.4->fastapi) (0.4.1)\n",
            "Requirement already satisfied: anyio<5,>=3.6.2 in /usr/local/lib/python3.11/dist-packages (from starlette<0.47.0,>=0.40.0->fastapi) (4.9.0)\n",
            "Requirement already satisfied: idna>=2.8 in /usr/local/lib/python3.11/dist-packages (from anyio<5,>=3.6.2->starlette<0.47.0,>=0.40.0->fastapi) (3.10)\n",
            "Requirement already satisfied: sniffio>=1.1 in /usr/local/lib/python3.11/dist-packages (from anyio<5,>=3.6.2->starlette<0.47.0,>=0.40.0->fastapi) (1.3.1)\n",
            "Downloading pyngrok-7.2.9-py3-none-any.whl (25 kB)\n",
            "Installing collected packages: pyngrok\n",
            "Successfully installed pyngrok-7.2.9\n",
            "Reading package lists... Done\n",
            "Building dependency tree... Done\n",
            "Reading state information... Done\n",
            "tesseract-ocr is already the newest version (4.1.1-2.1build1).\n",
            "0 upgraded, 0 newly installed, 0 to remove and 35 not upgraded.\n"
          ]
        }
      ]
    },
    {
      "cell_type": "code",
      "source": [
        "from fastapi import FastAPI, UploadFile, File\n",
        "from fastapi.responses import JSONResponse\n",
        "from PIL import Image\n",
        "import pytesseract\n",
        "import io\n",
        "from transformers import AutoTokenizer, AutoModelForTokenClassification, pipeline"
      ],
      "metadata": {
        "id": "EoQBEWBY6ndz"
      },
      "execution_count": 3,
      "outputs": []
    },
    {
      "cell_type": "code",
      "source": [
        "from google.colab import drive\n",
        "drive.mount('/content/drive')"
      ],
      "metadata": {
        "colab": {
          "base_uri": "https://localhost:8080/"
        },
        "id": "BZ8a8ctX5cTr",
        "outputId": "79fb1e4b-04a9-4ad9-f20a-8b7874bafcf3"
      },
      "execution_count": 4,
      "outputs": [
        {
          "output_type": "stream",
          "name": "stdout",
          "text": [
            "Mounted at /content/drive\n"
          ]
        }
      ]
    },
    {
      "cell_type": "code",
      "source": [
        "model_path = \"/content/drive/MyDrive/ner-model\""
      ],
      "metadata": {
        "id": "mgJ4rnpt5npd"
      },
      "execution_count": 5,
      "outputs": []
    },
    {
      "cell_type": "code",
      "source": [
        "tokenizer = AutoTokenizer.from_pretrained(model_path)\n",
        "model = AutoModelForTokenClassification.from_pretrained(model_path)\n",
        "ner_pipeline = pipeline(\"ner\", model=model, tokenizer=tokenizer, aggregation_strategy=\"simple\")\n",
        "\n",
        "def extract_data_from_text(text: str):\n",
        "    predictions = ner_pipeline(text)\n",
        "    result = {}\n",
        "    for entity in predictions:\n",
        "        label = entity[\"entity_group\"]\n",
        "        word = entity[\"word\"]\n",
        "        result.setdefault(label, []).append(word)\n",
        "    return result"
      ],
      "metadata": {
        "colab": {
          "base_uri": "https://localhost:8080/"
        },
        "id": "nMYO8a3N6jau",
        "outputId": "d9887ca7-1348-465c-af6a-099451a0c2dd"
      },
      "execution_count": 6,
      "outputs": [
        {
          "output_type": "stream",
          "name": "stderr",
          "text": [
            "Device set to use cuda:0\n"
          ]
        }
      ]
    },
    {
      "cell_type": "code",
      "execution_count": 7,
      "metadata": {
        "id": "MUswP4k2qakX"
      },
      "outputs": [],
      "source": [
        "app = FastAPI()\n",
        "\n",
        "@app.post(\"/extract\")\n",
        "async def extract_entities_from_image(file: UploadFile = File(...)):\n",
        "    try:\n",
        "        image_bytes = await file.read()\n",
        "        image = Image.open(io.BytesIO(image_bytes))\n",
        "        text = pytesseract.image_to_string(image, lang='eng+fra')\n",
        "        extracted = extract_data_from_text(text)\n",
        "        return JSONResponse(content={\"success\": True, \"text\": text, \"entities\": extracted})\n",
        "    except Exception as e:\n",
        "        return JSONResponse(status_code=500, content={\"success\": False, \"error\": str(e)})\n"
      ]
    },
    {
      "cell_type": "code",
      "source": [
        "from google.colab import userdata\n",
        "\n",
        "token = userdata.get('ngrok')\n",
        "!ngrok config add-authtoken {token}"
      ],
      "metadata": {
        "colab": {
          "base_uri": "https://localhost:8080/"
        },
        "id": "__sffp8w816r",
        "outputId": "506ddeb7-d185-48a1-f4e9-9ac7571b8136"
      },
      "execution_count": 8,
      "outputs": [
        {
          "output_type": "stream",
          "name": "stdout",
          "text": [
            "Authtoken saved to configuration file: /root/.config/ngrok/ngrok.yml\n"
          ]
        }
      ]
    },
    {
      "cell_type": "code",
      "source": [
        "from pyngrok import ngrok\n",
        "import nest_asyncio\n",
        "import uvicorn\n",
        "import threading\n",
        "\n",
        "nest_asyncio.apply()\n",
        "\n",
        "public_url = ngrok.connect(8000)\n",
        "print(f\"🚀 Ton API est disponible ici : {public_url}/extract\")\n",
        "\n",
        "def run():\n",
        "    uvicorn.run(app, host=\"0.0.0.0\", port=8000)\n",
        "\n",
        "thread = threading.Thread(target=run)\n",
        "thread.start()\n"
      ],
      "metadata": {
        "colab": {
          "base_uri": "https://localhost:8080/"
        },
        "id": "9_NasUpt215N",
        "outputId": "c3712b6a-9f5f-4c5a-f8ae-f681e47126a7"
      },
      "execution_count": 9,
      "outputs": [
        {
          "output_type": "stream",
          "name": "stdout",
          "text": [
            "🚀 Ton API est disponible ici : NgrokTunnel: \"https://f4a1-34-125-178-255.ngrok-free.app\" -> \"http://localhost:8000\"/extract\n"
          ]
        }
      ]
    },
    {
      "cell_type": "code",
      "source": [
        "!curl -F \"file=@FACTU2017120061.jpg\" https://f4a1-34-125-178-255.ngrok-free.app/extract\n"
      ],
      "metadata": {
        "colab": {
          "base_uri": "https://localhost:8080/"
        },
        "id": "OpDUX_qjEuSR",
        "outputId": "18fbbed1-d5e2-44b5-faae-ebf1b3250744"
      },
      "execution_count": 14,
      "outputs": [
        {
          "output_type": "stream",
          "name": "stdout",
          "text": [
            "INFO:     34.125.178.255:0 - \"POST /extract HTTP/1.1\" 200 OK\n",
            "{\"success\":true,\"text\":\" \\n\\nFacture FA12/2017/086781\\n\\nDescription\\n\\nPoubelle a pédale\\n\\nBureau personnalisable\\n\\nBureau personnalisable\\n\\nLampe de bureau\\n\\nBureau personnalisable\\n\\nArchitecte Principal (Facturation sur Feuilles de Temps)\\nBureau personnalisable\\n\\nChaise de bureau noire\\n\\nService Client (Heures Prépayées)\\n\\nBiotech\\n215 Vine St\\n\\nScranton PA 18503\\n\\nEtats Unis\\n\\nQuantité\\n88,00 Unités\\n62,00 Unités\\n\\n8,00 Unités\\n18,00 Unités\\n84,00 Unités\\n\\n33,00 Heures\\n55,00 Unités\\n94,00 Unités\\n38,00 Heures\\n\\nDate Echéacnce\\n\\nN° BC\\n\\n2017-12-28 2017-12-28 BCO2214\\n\\nPrix Taxes\\n\\n10,00 TVA 20%\\n500,00 TVA 20%\\n500,00 TVA 20%\\n\\n35,00 TVA 20%\\n500,00 TVA 20%\\n150,00 TVA 20%\\n500,00 TVA 20%\\n180,00 TVA 10%\\n190,00 TVA 20%\\n\\nMontant HT\\nTaxes\\n\\nMontant TTC\\n\\nSous total\\n880,00 €\\n31000,00€\\n4000,00 €\\n630,00 €\\n42000,00€\\n4 950,00 €\\n27 500,00 €\\n16 920,00€\\n7 220,00 €\\n\\n€135 100,00\\n€ 25 328,00\\n€ 160 428,00\\n\\n \\n\\f\",\"entities\":{\"INVOICE_NO\":[\"Facture FA12\"],\"PO_NO\":[\"/2017\"],\"DATE\":[\"/08\"],\"DUE_DATE\":[\"678\",\"1\"],\"PRODUCT_DESC\":[\"Description Poubelle a pédale Bureau personnalisable Bureau personnalisable Lampe de bureau Bureau personnalisable Architecte Principal (Facturation sur Feuilles de Temps) Bureau personnalisable Chaise de bureau noire Service Client (Heures Prépayées) Bio\",\"3 Etats Unis Quantité 88,00 Unités 62,00 Unités 8,00 Unités 18,00 Unités 84,00 Unités 33,00 Heures 55,00 Unités 94,00 Unités 38,00 Heures Date Echéacnce N° BC\",\"Prix Taxes 10,00 TVA 20% 500,00 TVA 20% 500,00 TVA 20% 35,00 TVA 20% 500,00 TVA 20% 150,00 TVA 20% 500,00 TVA 20% 180,00 TVA 10% 190,00 TVA 20% Montant HT Taxes Montant TTC Sous total 880,00 € 31000,00€ 4000,00 € 630,00 € 42000,00€ 4 950,00 €\",\"€\",\"0,00€ 7\"],\"TOTAL_UNTAXED\":[\"tech\"],\"TAX_AMOUNT\":[\"215 Vine St\"],\"TOTAL_AMOUNT\":[\"Scranton PA 1850\"],\"ADDRESS\":[\"2017-12-28 2017-12-28 BCO2214\",\"27 500,00\",\"16 92\",\"220,00 € €\",\"135 100,00 € 25 328,00 € 160 428,00\"]}}"
          ]
        }
      ]
    },
    {
      "cell_type": "code",
      "source": [
        "import requests\n",
        "\n",
        "url = \"https://f4a1-34-125-178-255.ngrok-free.app/extract\"\n",
        "file_path = \"FACTU2017120061.jpg\"\n",
        "\n",
        "with open(file_path, \"rb\") as file:\n",
        "    response = requests.post(\n",
        "        url,\n",
        "        files={\"file\": (file_path, file, \"image/jpeg\")}\n",
        "    )\n"
      ],
      "metadata": {
        "colab": {
          "base_uri": "https://localhost:8080/"
        },
        "id": "y6aSMlxwJXJY",
        "outputId": "9f5864a6-8388-4143-b877-4370d79e8630"
      },
      "execution_count": 15,
      "outputs": [
        {
          "output_type": "stream",
          "name": "stdout",
          "text": [
            "INFO:     34.125.178.255:0 - \"POST /extract HTTP/1.1\" 200 OK\n"
          ]
        }
      ]
    },
    {
      "cell_type": "code",
      "source": [
        "print(response.text)"
      ],
      "metadata": {
        "colab": {
          "base_uri": "https://localhost:8080/"
        },
        "id": "DxwHqyWlKyGi",
        "outputId": "45094bbd-ad9b-4d7e-d342-eadb45e14c73"
      },
      "execution_count": 16,
      "outputs": [
        {
          "output_type": "stream",
          "name": "stdout",
          "text": [
            "{\"success\":true,\"text\":\" \\n\\nFacture FA12/2017/086781\\n\\nDescription\\n\\nPoubelle a pédale\\n\\nBureau personnalisable\\n\\nBureau personnalisable\\n\\nLampe de bureau\\n\\nBureau personnalisable\\n\\nArchitecte Principal (Facturation sur Feuilles de Temps)\\nBureau personnalisable\\n\\nChaise de bureau noire\\n\\nService Client (Heures Prépayées)\\n\\nBiotech\\n215 Vine St\\n\\nScranton PA 18503\\n\\nEtats Unis\\n\\nQuantité\\n88,00 Unités\\n62,00 Unités\\n\\n8,00 Unités\\n18,00 Unités\\n84,00 Unités\\n\\n33,00 Heures\\n55,00 Unités\\n94,00 Unités\\n38,00 Heures\\n\\nDate Echéacnce\\n\\nN° BC\\n\\n2017-12-28 2017-12-28 BCO2214\\n\\nPrix Taxes\\n\\n10,00 TVA 20%\\n500,00 TVA 20%\\n500,00 TVA 20%\\n\\n35,00 TVA 20%\\n500,00 TVA 20%\\n150,00 TVA 20%\\n500,00 TVA 20%\\n180,00 TVA 10%\\n190,00 TVA 20%\\n\\nMontant HT\\nTaxes\\n\\nMontant TTC\\n\\nSous total\\n880,00 €\\n31000,00€\\n4000,00 €\\n630,00 €\\n42000,00€\\n4 950,00 €\\n27 500,00 €\\n16 920,00€\\n7 220,00 €\\n\\n€135 100,00\\n€ 25 328,00\\n€ 160 428,00\\n\\n \\n\\f\",\"entities\":{\"INVOICE_NO\":[\"Facture FA12\"],\"PO_NO\":[\"/2017\"],\"DATE\":[\"/08\"],\"DUE_DATE\":[\"678\",\"1\"],\"PRODUCT_DESC\":[\"Description Poubelle a pédale Bureau personnalisable Bureau personnalisable Lampe de bureau Bureau personnalisable Architecte Principal (Facturation sur Feuilles de Temps) Bureau personnalisable Chaise de bureau noire Service Client (Heures Prépayées) Bio\",\"3 Etats Unis Quantité 88,00 Unités 62,00 Unités 8,00 Unités 18,00 Unités 84,00 Unités 33,00 Heures 55,00 Unités 94,00 Unités 38,00 Heures Date Echéacnce N° BC\",\"Prix Taxes 10,00 TVA 20% 500,00 TVA 20% 500,00 TVA 20% 35,00 TVA 20% 500,00 TVA 20% 150,00 TVA 20% 500,00 TVA 20% 180,00 TVA 10% 190,00 TVA 20% Montant HT Taxes Montant TTC Sous total 880,00 € 31000,00€ 4000,00 € 630,00 € 42000,00€ 4 950,00 €\",\"€\",\"0,00€ 7\"],\"TOTAL_UNTAXED\":[\"tech\"],\"TAX_AMOUNT\":[\"215 Vine St\"],\"TOTAL_AMOUNT\":[\"Scranton PA 1850\"],\"ADDRESS\":[\"2017-12-28 2017-12-28 BCO2214\",\"27 500,00\",\"16 92\",\"220,00 € €\",\"135 100,00 € 25 328,00 € 160 428,00\"]}}\n"
          ]
        }
      ]
    },
    {
      "cell_type": "code",
      "source": [
        "import json\n",
        "print(json.dumps(response.json(), indent=4, ensure_ascii=False))"
      ],
      "metadata": {
        "colab": {
          "base_uri": "https://localhost:8080/"
        },
        "id": "aXqJEG9gHCW0",
        "outputId": "ac7b2479-2e66-4638-ac19-681e8bd273e5"
      },
      "execution_count": 17,
      "outputs": [
        {
          "output_type": "stream",
          "name": "stdout",
          "text": [
            "{\n",
            "    \"success\": true,\n",
            "    \"text\": \" \\n\\nFacture FA12/2017/086781\\n\\nDescription\\n\\nPoubelle a pédale\\n\\nBureau personnalisable\\n\\nBureau personnalisable\\n\\nLampe de bureau\\n\\nBureau personnalisable\\n\\nArchitecte Principal (Facturation sur Feuilles de Temps)\\nBureau personnalisable\\n\\nChaise de bureau noire\\n\\nService Client (Heures Prépayées)\\n\\nBiotech\\n215 Vine St\\n\\nScranton PA 18503\\n\\nEtats Unis\\n\\nQuantité\\n88,00 Unités\\n62,00 Unités\\n\\n8,00 Unités\\n18,00 Unités\\n84,00 Unités\\n\\n33,00 Heures\\n55,00 Unités\\n94,00 Unités\\n38,00 Heures\\n\\nDate Echéacnce\\n\\nN° BC\\n\\n2017-12-28 2017-12-28 BCO2214\\n\\nPrix Taxes\\n\\n10,00 TVA 20%\\n500,00 TVA 20%\\n500,00 TVA 20%\\n\\n35,00 TVA 20%\\n500,00 TVA 20%\\n150,00 TVA 20%\\n500,00 TVA 20%\\n180,00 TVA 10%\\n190,00 TVA 20%\\n\\nMontant HT\\nTaxes\\n\\nMontant TTC\\n\\nSous total\\n880,00 €\\n31000,00€\\n4000,00 €\\n630,00 €\\n42000,00€\\n4 950,00 €\\n27 500,00 €\\n16 920,00€\\n7 220,00 €\\n\\n€135 100,00\\n€ 25 328,00\\n€ 160 428,00\\n\\n \\n\\f\",\n",
            "    \"entities\": {\n",
            "        \"INVOICE_NO\": [\n",
            "            \"Facture FA12\"\n",
            "        ],\n",
            "        \"PO_NO\": [\n",
            "            \"/2017\"\n",
            "        ],\n",
            "        \"DATE\": [\n",
            "            \"/08\"\n",
            "        ],\n",
            "        \"DUE_DATE\": [\n",
            "            \"678\",\n",
            "            \"1\"\n",
            "        ],\n",
            "        \"PRODUCT_DESC\": [\n",
            "            \"Description Poubelle a pédale Bureau personnalisable Bureau personnalisable Lampe de bureau Bureau personnalisable Architecte Principal (Facturation sur Feuilles de Temps) Bureau personnalisable Chaise de bureau noire Service Client (Heures Prépayées) Bio\",\n",
            "            \"3 Etats Unis Quantité 88,00 Unités 62,00 Unités 8,00 Unités 18,00 Unités 84,00 Unités 33,00 Heures 55,00 Unités 94,00 Unités 38,00 Heures Date Echéacnce N° BC\",\n",
            "            \"Prix Taxes 10,00 TVA 20% 500,00 TVA 20% 500,00 TVA 20% 35,00 TVA 20% 500,00 TVA 20% 150,00 TVA 20% 500,00 TVA 20% 180,00 TVA 10% 190,00 TVA 20% Montant HT Taxes Montant TTC Sous total 880,00 € 31000,00€ 4000,00 € 630,00 € 42000,00€ 4 950,00 €\",\n",
            "            \"€\",\n",
            "            \"0,00€ 7\"\n",
            "        ],\n",
            "        \"TOTAL_UNTAXED\": [\n",
            "            \"tech\"\n",
            "        ],\n",
            "        \"TAX_AMOUNT\": [\n",
            "            \"215 Vine St\"\n",
            "        ],\n",
            "        \"TOTAL_AMOUNT\": [\n",
            "            \"Scranton PA 1850\"\n",
            "        ],\n",
            "        \"ADDRESS\": [\n",
            "            \"2017-12-28 2017-12-28 BCO2214\",\n",
            "            \"27 500,00\",\n",
            "            \"16 92\",\n",
            "            \"220,00 € €\",\n",
            "            \"135 100,00 € 25 328,00 € 160 428,00\"\n",
            "        ]\n",
            "    }\n",
            "}\n"
          ]
        }
      ]
    },
    {
      "cell_type": "code",
      "source": [],
      "metadata": {
        "id": "o1LT7BpbJ62n"
      },
      "execution_count": null,
      "outputs": []
    }
  ]
}